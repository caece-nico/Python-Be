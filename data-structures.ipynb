{
 "cells": [
  {
   "cell_type": "code",
   "execution_count": 3,
   "metadata": {},
   "outputs": [],
   "source": [
    "from collections import Counter"
   ]
  },
  {
   "cell_type": "code",
   "execution_count": 1,
   "metadata": {},
   "outputs": [
    {
     "name": "stdout",
     "output_type": "stream",
     "text": [
      "[1, 2, 2, 1, 5, 2, 3, 5, 2, 6, 5, 3, 2, 4, 5, 2, 5, 6, 8, 2, 1, 6, 4, 2]\n"
     ]
    }
   ],
   "source": [
    "lista = [1,2,2,1,5,2,3,5,2,6,5,3,2,4,5,2,5,6,8,2,1,6,4,2]\n",
    "print(lista)"
   ]
  },
  {
   "cell_type": "code",
   "execution_count": 4,
   "metadata": {},
   "outputs": [
    {
     "name": "stdout",
     "output_type": "stream",
     "text": [
      "Counter({2: 8, 5: 5, 1: 3, 6: 3, 3: 2, 4: 2, 8: 1})\n"
     ]
    }
   ],
   "source": [
    "dtc_final = Counter(lista)\n",
    "print(dtc_final)"
   ]
  },
  {
   "cell_type": "code",
   "execution_count": 23,
   "metadata": {},
   "outputs": [
    {
     "name": "stdout",
     "output_type": "stream",
     "text": [
      "dict_keys([1, 2, 5, 3, 6, 4, 8])\n",
      "dict_values([3, 8, 5, 2, 3, 2, 1])\n",
      "dict_items([(1, 3), (2, 8), (5, 5), (3, 2), (6, 3), (4, 2), (8, 1)])\n",
      "[(2, 8)]\n"
     ]
    }
   ],
   "source": [
    "print(dtc_final.keys())\n",
    "print(dtc_final.values())\n",
    "print(dtc_final.items())\n",
    "print(dtc_final.most_common(1))"
   ]
  },
  {
   "cell_type": "code",
   "execution_count": 27,
   "metadata": {},
   "outputs": [
    {
     "name": "stdout",
     "output_type": "stream",
     "text": [
      "Para la Key: 1 el valor es: 3 o : 3\n",
      "Para la Key: 2 el valor es: 8 o : 8\n",
      "Para la Key: 5 el valor es: 5 o : 5\n",
      "Para la Key: 3 el valor es: 2 o : 2\n",
      "Para la Key: 6 el valor es: 3 o : 3\n",
      "Para la Key: 4 el valor es: 2 o : 2\n",
      "Para la Key: 8 el valor es: 1 o : 1\n"
     ]
    }
   ],
   "source": [
    "for key, val in dtc_final.items():\n",
    "    print('Para la Key: '  + str(key) + ' el valor es: ' + str(val) +' o : ' +  str(dtc_final[key]))"
   ]
  },
  {
   "cell_type": "code",
   "execution_count": 28,
   "metadata": {},
   "outputs": [
    {
     "name": "stdout",
     "output_type": "stream",
     "text": [
      "[1, 2, 5, 3, 6, 4, 8]\n"
     ]
    }
   ],
   "source": [
    "keys = list(dtc_final)\n",
    "print(keys)"
   ]
  },
  {
   "cell_type": "code",
   "execution_count": 29,
   "metadata": {},
   "outputs": [
    {
     "name": "stdout",
     "output_type": "stream",
     "text": [
      "[1, 2, 5, 3, 6, 4, 8, 11]\n"
     ]
    }
   ],
   "source": [
    "valores_key = list(dtc_final) + [11 ]\n",
    "print(valores_key)"
   ]
  },
  {
   "cell_type": "code",
   "execution_count": 31,
   "metadata": {},
   "outputs": [
    {
     "name": "stdout",
     "output_type": "stream",
     "text": [
      "[3, 8, 5, 2, 3, 2, 1, 0]\n"
     ]
    }
   ],
   "source": [
    "final = []\n",
    "for k_y in valores_key:\n",
    "    try:\n",
    "        final.append(dtc_final[k_y])\n",
    "    except Exception as e:\n",
    "        print('No hay datos para la variable + ' + str(k_y))\n",
    "print(final)"
   ]
  },
  {
   "cell_type": "code",
   "execution_count": 32,
   "metadata": {},
   "outputs": [
    {
     "data": {
      "text/plain": [
       "0"
      ]
     },
     "execution_count": 32,
     "metadata": {},
     "output_type": "execute_result"
    }
   ],
   "source": []
  }
 ],
 "metadata": {
  "kernelspec": {
   "display_name": "Python 3.10.9 64-bit (microsoft store)",
   "language": "python",
   "name": "python3"
  },
  "language_info": {
   "codemirror_mode": {
    "name": "ipython",
    "version": 3
   },
   "file_extension": ".py",
   "mimetype": "text/x-python",
   "name": "python",
   "nbconvert_exporter": "python",
   "pygments_lexer": "ipython3",
   "version": "3.10.9"
  },
  "orig_nbformat": 4,
  "vscode": {
   "interpreter": {
    "hash": "f0c2d97d71d4dfacd170f989de483023c17b3ed45e69ef88703b0e05290ea470"
   }
  }
 },
 "nbformat": 4,
 "nbformat_minor": 2
}
